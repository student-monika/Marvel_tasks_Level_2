{
  "nbformat": 4,
  "nbformat_minor": 0,
  "metadata": {
    "colab": {
      "provenance": [],
      "authorship_tag": "ABX9TyNK3dKDNRhFUbQQce+d5mC8",
      "include_colab_link": true
    },
    "kernelspec": {
      "name": "python3",
      "display_name": "Python 3"
    },
    "language_info": {
      "name": "python"
    }
  },
  "cells": [
    {
      "cell_type": "markdown",
      "metadata": {
        "id": "view-in-github",
        "colab_type": "text"
      },
      "source": [
        "<a href=\"https://colab.research.google.com/github/student-monika/Marvel_tasks_Level_2/blob/main/Marvel_level_3_Task_1.ipynb\" target=\"_parent\"><img src=\"https://colab.research.google.com/assets/colab-badge.svg\" alt=\"Open In Colab\"/></a>"
      ]
    },
    {
      "cell_type": "code",
      "execution_count": 12,
      "metadata": {
        "colab": {
          "base_uri": "https://localhost:8080/"
        },
        "id": "Ry-PXklQhR7d",
        "outputId": "e50cfc97-0ae6-4566-da1c-8c65d0d923d7"
      },
      "outputs": [
        {
          "output_type": "stream",
          "name": "stdout",
          "text": [
            "Decision Tree: {'Outlook': {'Sunny': {'Humidity': {'High': 'No', 'Normal': 'Yes'}}, 'Overcast': 'Yes', 'Rain': {'Windy': {False: 'Yes', True: 'No'}}}}\n"
          ]
        }
      ],
      "source": [
        "import math\n",
        "import pandas as pd\n",
        "import matplotlib.pyplot as plt\n",
        "import networkx as nx\n",
        "\n",
        "# Function to calculate entropy\n",
        "def calculate_entropy(data):\n",
        "    labels = data.iloc[:, -1]\n",
        "    total_count = len(labels)\n",
        "    label_counts = labels.value_counts()\n",
        "    entropy = -sum((count / total_count) * math.log2(count / total_count) for count in label_counts)\n",
        "    return entropy\n",
        "\n",
        "# Function to calculate information gain\n",
        "def calculate_information_gain(data, feature):\n",
        "    total_entropy = calculate_entropy(data)\n",
        "    total_count = len(data)\n",
        "    values = data[feature].unique()\n",
        "    weighted_entropy = sum(\n",
        "        (len(subset) / total_count) * calculate_entropy(subset)\n",
        "        for value in values\n",
        "        for subset in [data[data[feature] == value]]\n",
        "    )\n",
        "    return total_entropy - weighted_entropy\n",
        "\n",
        "# Recursive ID3 algorithm\n",
        "def id3(data, features, tree=None):\n",
        "    # If all instances have the same class, return that class\n",
        "    if len(data.iloc[:, -1].unique()) == 1:\n",
        "        return data.iloc[0, -1]\n",
        "\n",
        "    # If no features are left, return the majority class\n",
        "    if not features:\n",
        "        return data.iloc[:, -1].mode()[0]\n",
        "\n",
        "    # Select the feature with the highest information gain\n",
        "    gains = {feature: calculate_information_gain(data, feature) for feature in features}\n",
        "    best_feature = max(gains, key=gains.get)\n",
        "\n",
        "    # Initialize the tree structure\n",
        "    tree = {best_feature: {}}\n",
        "\n",
        "    # Split the dataset on the best feature\n",
        "    for value in data[best_feature].unique():\n",
        "        subset = data[data[best_feature] == value]\n",
        "        subtree = id3(subset.drop(columns=[best_feature]), [f for f in features if f != best_feature])\n",
        "        tree[best_feature][value] = subtree\n",
        "\n",
        "    return tree\n",
        "\n",
        "# Example dataset\n",
        "data = pd.DataFrame({\n",
        "    \"Outlook\": [\"Sunny\", \"Sunny\", \"Overcast\", \"Rain\", \"Rain\", \"Rain\", \"Overcast\", \"Sunny\", \"Sunny\", \"Rain\", \"Sunny\", \"Overcast\", \"Overcast\", \"Rain\"],\n",
        "    \"Temperature\": [\"Hot\", \"Hot\", \"Hot\", \"Mild\", \"Cool\", \"Cool\", \"Cool\", \"Mild\", \"Cool\", \"Mild\", \"Mild\", \"Mild\", \"Hot\", \"Mild\"],\n",
        "    \"Humidity\": [\"High\", \"High\", \"High\", \"High\", \"Normal\", \"Normal\", \"Normal\", \"High\", \"Normal\", \"Normal\", \"Normal\", \"High\", \"Normal\", \"High\"],\n",
        "    \"Windy\": [False, True, False, False, False, True, True, False, False, False, True, True, False, True],\n",
        "    \"Play\": [\"No\", \"No\", \"Yes\", \"Yes\", \"Yes\", \"No\", \"Yes\", \"No\", \"Yes\", \"Yes\", \"Yes\", \"Yes\", \"Yes\", \"No\"]\n",
        "})\n",
        "\n",
        "# Build the decision tree\n",
        "features = [\"Outlook\", \"Temperature\", \"Humidity\", \"Windy\"]\n",
        "decision_tree = id3(data, features)\n",
        "print(\"Decision Tree:\", decision_tree)\n"
      ]
    }
  ]
}