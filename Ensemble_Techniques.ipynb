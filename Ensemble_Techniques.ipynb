{
  "nbformat": 4,
  "nbformat_minor": 0,
  "metadata": {
    "colab": {
      "provenance": [],
      "authorship_tag": "ABX9TyP9KVYV0szPQUTf83+bcrz8",
      "include_colab_link": true
    },
    "kernelspec": {
      "name": "python3",
      "display_name": "Python 3"
    },
    "language_info": {
      "name": "python"
    }
  },
  "cells": [
    {
      "cell_type": "markdown",
      "metadata": {
        "id": "view-in-github",
        "colab_type": "text"
      },
      "source": [
        "<a href=\"https://colab.research.google.com/github/student-monika/Marvel_tasks_Level_2/blob/main/Ensemble_Techniques.ipynb\" target=\"_parent\"><img src=\"https://colab.research.google.com/assets/colab-badge.svg\" alt=\"Open In Colab\"/></a>"
      ]
    },
    {
      "cell_type": "code",
      "source": [
        "import pandas as pd\n",
        "import numpy as np\n",
        "from sklearn.model_selection import train_test_split, cross_val_score\n",
        "from sklearn.ensemble import RandomForestClassifier, GradientBoostingClassifier\n",
        "from sklearn.ensemble import BaggingClassifier\n",
        "from sklearn.linear_model import LogisticRegression\n",
        "from sklearn.metrics import accuracy_score\n",
        "from sklearn.model_selection import KFold\n",
        "from sklearn.preprocessing import LabelEncoder\n",
        "from sklearn.ensemble import VotingClassifier\n"
      ],
      "metadata": {
        "id": "Yp_Yy3HbGhYI"
      },
      "execution_count": null,
      "outputs": []
    },
    {
      "cell_type": "code",
      "source": [
        "# Load the dataset\n",
        "data = pd.read_csv('titanic.csv')\n",
        "\n",
        "# Feature engineering (basic preprocessing)\n",
        "data['Age'] = data['Age'].fillna(data['Age'].median())\n",
        "data['Embarked'] = data['Embarked'].fillna(data['Embarked'].mode()[0])\n",
        "data['Fare'] = data['Fare'].fillna(data['Fare'].median())\n",
        "\n",
        "# Encoding categorical variables\n",
        "le = LabelEncoder()\n",
        "data['Sex'] = le.fit_transform(data['Sex'])\n",
        "data['Embarked'] = le.fit_transform(data['Embarked'])\n",
        "\n",
        "# Selecting features\n",
        "features = ['Pclass', 'Sex', 'Age', 'SibSp', 'Parch', 'Fare', 'Embarked']\n",
        "X = data[features]\n",
        "y = data['Survived']\n",
        "\n",
        "# Train-test split\n",
        "X_train, X_test, y_train, y_test = train_test_split(X, y, test_size=0.2, random_state=42)\n",
        "\n",
        "# Check the first few rows of the preprocessed data\n",
        "print(X_train.head())"
      ],
      "metadata": {
        "colab": {
          "base_uri": "https://localhost:8080/"
        },
        "id": "HzbA9-2MGu_E",
        "outputId": "ff2326fd-a5b1-462a-ff3c-cd2ae02bb4b7"
      },
      "execution_count": null,
      "outputs": [
        {
          "output_type": "stream",
          "name": "stdout",
          "text": [
            "     Pclass  Sex   Age  SibSp  Parch     Fare  Embarked\n",
            "331       1    1  45.5      0      0  28.5000         2\n",
            "733       2    1  23.0      0      0  13.0000         2\n",
            "382       3    1  32.0      0      0   7.9250         2\n",
            "704       3    1  26.0      1      0   7.8542         2\n",
            "813       3    0   6.0      4      2  31.2750         2\n"
          ]
        }
      ]
    },
    {
      "cell_type": "code",
      "source": [
        "# Logistic Regression model\n",
        "log_reg = LogisticRegression()\n",
        "log_reg.fit(X_train, y_train)\n",
        "\n",
        "# Predictions\n",
        "y_pred = log_reg.predict(X_test)\n",
        "\n",
        "# Evaluation\n",
        "accuracy = accuracy_score(y_test, y_pred)\n",
        "print(f\"Logistic regression Accuracy: {accuracy:.2f}\")"
      ],
      "metadata": {
        "colab": {
          "base_uri": "https://localhost:8080/"
        },
        "id": "_yVLR3EDKAgC",
        "outputId": "0d8fccfd-38a6-4731-cf5b-c2f4c2186621"
      },
      "execution_count": null,
      "outputs": [
        {
          "output_type": "stream",
          "name": "stdout",
          "text": [
            "Logistic regression Accuracy: 0.81\n"
          ]
        }
      ]
    },
    {
      "cell_type": "code",
      "source": [
        "# Bagging using Random Forest\n",
        "rf = RandomForestClassifier(n_estimators=100, random_state=42)\n",
        "rf.fit(X_train, y_train)\n",
        "\n",
        "# Predictions and accuracy\n",
        "y_pred_rf = rf.predict(X_test)\n",
        "print(\"Random Forest Accuracy:\", accuracy_score(y_test, y_pred_rf))\n"
      ],
      "metadata": {
        "colab": {
          "base_uri": "https://localhost:8080/"
        },
        "id": "gCNpcxBVG1ro",
        "outputId": "a5798712-f51e-47f0-ad6a-338863f8c7f5"
      },
      "execution_count": null,
      "outputs": [
        {
          "output_type": "stream",
          "name": "stdout",
          "text": [
            "Random Forest Accuracy: 0.8212290502793296\n"
          ]
        }
      ]
    },
    {
      "cell_type": "code",
      "source": [
        "# Gradient Boosting\n",
        "gb = GradientBoostingClassifier(n_estimators=100, learning_rate=0.1, random_state=42)\n",
        "gb.fit(X_train, y_train)\n",
        "\n",
        "# Predictions and accuracy\n",
        "y_pred_gb = gb.predict(X_test)\n",
        "print(\"Gradient Boosting Accuracy:\", accuracy_score(y_test, y_pred_gb))\n"
      ],
      "metadata": {
        "colab": {
          "base_uri": "https://localhost:8080/"
        },
        "id": "LOY_BOnDG7-_",
        "outputId": "db9e57c7-252a-4361-fd74-a35a274e5e98"
      },
      "execution_count": null,
      "outputs": [
        {
          "output_type": "stream",
          "name": "stdout",
          "text": [
            "Gradient Boosting Accuracy: 0.8100558659217877\n"
          ]
        }
      ]
    },
    {
      "cell_type": "code",
      "source": [
        "from sklearn.ensemble import StackingClassifier\n",
        "\n",
        "# Base models\n",
        "estimators = [\n",
        "    ('rf', RandomForestClassifier(n_estimators=100, random_state=42)),\n",
        "    ('gb', GradientBoostingClassifier(n_estimators=100, random_state=42)),\n",
        "]\n",
        "\n",
        "# Meta-model\n",
        "stacking_model = StackingClassifier(estimators=estimators, final_estimator=LogisticRegression())\n",
        "stacking_model.fit(X_train, y_train)\n",
        "\n",
        "# Predictions and accuracy\n",
        "y_pred_stack = stacking_model.predict(X_test)\n",
        "print(\"Stacking Accuracy:\", accuracy_score(y_test, y_pred_stack))\n"
      ],
      "metadata": {
        "colab": {
          "base_uri": "https://localhost:8080/"
        },
        "id": "TIjA3dRYHBTN",
        "outputId": "d2285007-be27-4aa5-9773-97fb4e10229b"
      },
      "execution_count": null,
      "outputs": [
        {
          "output_type": "stream",
          "name": "stdout",
          "text": [
            "Stacking Accuracy: 0.8268156424581006\n"
          ]
        }
      ]
    },
    {
      "cell_type": "code",
      "source": [
        "# Train-validation split for blending\n",
        "X_train_blend, X_val, y_train_blend, y_val = train_test_split(X_train, y_train, test_size=0.2, random_state=42)\n",
        "\n",
        "# Base models\n",
        "model1 = RandomForestClassifier(n_estimators=100, random_state=42)\n",
        "model2 = GradientBoostingClassifier(n_estimators=100, random_state=42)\n",
        "\n",
        "# Train base models\n",
        "model1.fit(X_train_blend, y_train_blend)\n",
        "model2.fit(X_train_blend, y_train_blend)\n",
        "\n",
        "# Make predictions on validation set\n",
        "pred1 = model1.predict(X_val)\n",
        "pred2 = model2.predict(X_val)\n",
        "\n",
        "# Combine predictions and use a meta-model\n",
        "meta_model = LogisticRegression()\n",
        "meta_features = np.column_stack((pred1, pred2))\n",
        "meta_model.fit(meta_features, y_val)\n",
        "\n",
        "# Test predictions\n",
        "test_pred1 = model1.predict(X_test)\n",
        "test_pred2 = model2.predict(X_test)\n",
        "test_meta_features = np.column_stack((test_pred1, test_pred2))\n",
        "y_pred_blend = meta_model.predict(test_meta_features)\n",
        "\n",
        "print(\"Blending Accuracy:\", accuracy_score(y_test, y_pred_blend))\n"
      ],
      "metadata": {
        "colab": {
          "base_uri": "https://localhost:8080/"
        },
        "id": "HgoXnuQkHPW1",
        "outputId": "9ed8591d-4c08-4b6d-e638-19d2d1b66fea"
      },
      "execution_count": null,
      "outputs": [
        {
          "output_type": "stream",
          "name": "stdout",
          "text": [
            "Blending Accuracy: 0.8156424581005587\n"
          ]
        }
      ]
    }
  ]
}