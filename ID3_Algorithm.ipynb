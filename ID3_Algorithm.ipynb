{
  "nbformat": 4,
  "nbformat_minor": 0,
  "metadata": {
    "colab": {
      "provenance": [],
      "authorship_tag": "ABX9TyN1fgYCNC9LW7qrRpBPbo2j",
      "include_colab_link": true
    },
    "kernelspec": {
      "name": "python3",
      "display_name": "Python 3"
    },
    "language_info": {
      "name": "python"
    }
  },
  "cells": [
    {
      "cell_type": "markdown",
      "metadata": {
        "id": "view-in-github",
        "colab_type": "text"
      },
      "source": [
        "<a href=\"https://colab.research.google.com/github/student-monika/Marvel_tasks_Level_2/blob/main/ID3_Algorithm.ipynb\" target=\"_parent\"><img src=\"https://colab.research.google.com/assets/colab-badge.svg\" alt=\"Open In Colab\"/></a>"
      ]
    },
    {
      "cell_type": "code",
      "execution_count": null,
      "metadata": {
        "colab": {
          "base_uri": "https://localhost:8080/"
        },
        "id": "hm2oHqqTC7QT",
        "outputId": "3ed8ff14-b0f6-482f-a0d2-bafb5725f852"
      },
      "outputs": [
        {
          "output_type": "stream",
          "name": "stdout",
          "text": [
            "Decision Tree: {'Outlook': {'Sunny': {'Temperature': {'Hot': 'No', 'Mild': 'No', 'Cool': 'Yes'}}, 'Overcast': 'Yes', 'Rain': {'Windy': {False: 'Yes', True: 'No'}}}}\n",
            "Accuracy on test dataset: 0.75\n"
          ]
        }
      ],
      "source": [
        "import math\n",
        "import pandas as pd\n",
        "\n",
        "# Function to calculate entropy\n",
        "def calculate_entropy(data):\n",
        "    labels = data.iloc[:, -1]\n",
        "    total_count = len(labels)\n",
        "    label_counts = labels.value_counts()\n",
        "    entropy = -sum((count / total_count) * math.log2(count / total_count) for count in label_counts)\n",
        "    return entropy\n",
        "\n",
        "# Function to calculate information gain\n",
        "def calculate_information_gain(data, feature):\n",
        "    total_entropy = calculate_entropy(data)\n",
        "    total_count = len(data)\n",
        "    values = data[feature].unique()\n",
        "    weighted_entropy = sum(\n",
        "        (len(subset) / total_count) * calculate_entropy(subset)\n",
        "        for value in values\n",
        "        for subset in [data[data[feature] == value]]\n",
        "    )\n",
        "    return total_entropy - weighted_entropy\n",
        "\n",
        "# Recursive ID3 algorithm\n",
        "def id3(data, features, tree=None):\n",
        "    # If all instances have the same class, return that class\n",
        "    if len(data.iloc[:, -1].unique()) == 1:\n",
        "        return data.iloc[0, -1]\n",
        "\n",
        "    # If no features are left, return the majority class\n",
        "    if not features:\n",
        "        return data.iloc[:, -1].mode()[0]\n",
        "\n",
        "    # Select the feature with the highest information gain\n",
        "    gains = {feature: calculate_information_gain(data, feature) for feature in features}\n",
        "    best_feature = max(gains, key=gains.get)\n",
        "\n",
        "    # Initialize the tree structure\n",
        "    tree = {best_feature: {}}\n",
        "\n",
        "    # Split the dataset on the best feature\n",
        "    for value in data[best_feature].unique():\n",
        "        subset = data[data[best_feature] == value]\n",
        "        subtree = id3(subset.drop(columns=[best_feature]), [f for f in features if f != best_feature])\n",
        "        tree[best_feature][value] = subtree\n",
        "\n",
        "    return tree\n",
        "\n",
        "# Function to make a prediction for a single test instance\n",
        "def predict(tree, instance):\n",
        "    if not isinstance(tree, dict):  # Leaf node\n",
        "        return tree\n",
        "    root_feature = next(iter(tree))\n",
        "    feature_value = instance[root_feature]\n",
        "    if feature_value in tree[root_feature]:  # Move down the tree\n",
        "        return predict(tree[root_feature][feature_value], instance)\n",
        "    else:\n",
        "        return None  # Handle unseen feature values\n",
        "\n",
        "# Function to calculate accuracy\n",
        "def calculate_accuracy(tree, test_data):\n",
        "    correct_predictions = 0\n",
        "    for _, row in test_data.iterrows():\n",
        "        prediction = predict(tree, row)\n",
        "        if prediction == row.iloc[-1]:\n",
        "            correct_predictions += 1\n",
        "    accuracy = correct_predictions / len(test_data)\n",
        "    return accuracy\n",
        "\n",
        "# Example dataset\n",
        "data = pd.DataFrame({\n",
        "    \"Outlook\": [\"Sunny\", \"Sunny\", \"Overcast\", \"Rain\", \"Rain\", \"Rain\", \"Overcast\", \"Sunny\", \"Sunny\", \"Rain\", \"Sunny\", \"Overcast\", \"Overcast\", \"Rain\"],\n",
        "    \"Temperature\": [\"Hot\", \"Hot\", \"Hot\", \"Mild\", \"Cool\", \"Cool\", \"Cool\", \"Mild\", \"Cool\", \"Mild\", \"Mild\", \"Mild\", \"Hot\", \"Mild\"],\n",
        "    \"Humidity\": [\"High\", \"High\", \"High\", \"High\", \"Normal\", \"Normal\", \"Normal\", \"High\", \"Normal\", \"Normal\", \"Normal\", \"High\", \"Normal\", \"High\"],\n",
        "    \"Windy\": [False, True, False, False, False, True, True, False, False, False, True, True, False, True],\n",
        "    \"Play\": [\"No\", \"No\", \"Yes\", \"Yes\", \"Yes\", \"No\", \"Yes\", \"No\", \"Yes\", \"Yes\", \"Yes\", \"Yes\", \"Yes\", \"No\"]\n",
        "})\n",
        "\n",
        "# Split dataset into training and testing sets (e.g., 70% train, 30% test)\n",
        "train_data = data.iloc[:10]  # First 10 rows for training\n",
        "test_data = data.iloc[10:]   # Remaining rows for testing\n",
        "\n",
        "# Build the decision tree\n",
        "features = [\"Outlook\", \"Temperature\", \"Humidity\", \"Windy\"]\n",
        "decision_tree = id3(train_data, features)\n",
        "\n",
        "# Calculate accuracy on the test dataset\n",
        "accuracy = calculate_accuracy(decision_tree, test_data)\n",
        "\n",
        "print(\"Decision Tree:\", decision_tree)\n",
        "print(\"Accuracy on test dataset:\", accuracy)\n"
      ]
    }
  ]
}